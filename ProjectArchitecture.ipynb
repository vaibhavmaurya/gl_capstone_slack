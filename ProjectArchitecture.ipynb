{
 "cells": [
  {
   "cell_type": "code",
   "execution_count": 3,
   "id": "fecde053-18eb-4d6b-ba21-4cf1ca06de42",
   "metadata": {},
   "outputs": [],
   "source": [
    "g = [{\n",
    "\t\t'action_id': 'confirm_button1',\n",
    "\t\t'block_id': 'dBWv',\n",
    "\t\t'text': {\n",
    "\t\t\t'type': 'plain_text',\n",
    "\t\t\t'text': 'Confirm',\n",
    "\t\t\t'emoji': True\n",
    "\t\t},\n",
    "\t\t'value': 'click_me_123',\n",
    "\t\t'type': 'button',\n",
    "\t\t'action_ts': '1672049722.883987'\n",
    "\t}]"
   ]
  },
  {
   "cell_type": "code",
   "execution_count": 4,
   "id": "0cb07c55-cb8a-40f7-900d-10a5954590f7",
   "metadata": {},
   "outputs": [
    {
     "data": {
      "text/plain": [
       "False"
      ]
     },
     "execution_count": 4,
     "metadata": {},
     "output_type": "execute_result"
    }
   ],
   "source": [
    "any(x['action_id'] == 'confirm_button' for x in g)"
   ]
  },
  {
   "cell_type": "code",
   "execution_count": null,
   "id": "9e3053f8-9c48-407d-9fd5-9a461f2adb55",
   "metadata": {},
   "outputs": [],
   "source": []
  }
 ],
 "metadata": {
  "kernelspec": {
   "display_name": "Python 3 (ipykernel)",
   "language": "python",
   "name": "python3"
  },
  "language_info": {
   "codemirror_mode": {
    "name": "ipython",
    "version": 3
   },
   "file_extension": ".py",
   "mimetype": "text/x-python",
   "name": "python",
   "nbconvert_exporter": "python",
   "pygments_lexer": "ipython3",
   "version": "3.8.10"
  }
 },
 "nbformat": 4,
 "nbformat_minor": 5
}
