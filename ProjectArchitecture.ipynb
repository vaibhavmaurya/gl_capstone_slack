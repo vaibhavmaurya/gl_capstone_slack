{
 "cells": [
  {
   "cell_type": "markdown",
   "id": "8dada7d9-6cfb-45c8-a8c4-ac6f334d9bba",
   "metadata": {},
   "source": [
    "# NLP Capstone Project Deployment \n",
    "---\n",
    "[git repository](https://github.com/vaibhavmaurya/gl_capstone_slack.git)\n",
    "\n",
    "## Overview\n",
    "For chat/communication, in this project [Slack](slack.com) is being used. There is a bot **gl-nlp-bot** in the slack channel which is used to answer the accident level for any incident reported by user.\n",
    "How this bot is implemented, detals are below.\n",
    "\n",
    "This project has two services. Both the services can be deployed in Kubernetes cluster. The respective docker files are avaialble in the repository to build the docker images.\n",
    "- Slack Communication Service\n",
    "- ML Model training and prediction service\n",
    "\n",
    "A brief concept and architecture diagram is below.\n",
    "\n",
    "![](https://raw.githubusercontent.com/vaibhavmaurya/gl_capstone_slack/main/images/GL_Capstone_Project_Arch.jpg)\n",
    "\n",
    "Below is the snapshot of the bot communication in the slack channel.\n",
    "![](https://raw.githubusercontent.com/vaibhavmaurya/gl_capstone_slack/master/images/FullCommunication.jpg)\n",
    "\n",
    "## Slack Communication Service \n",
    "Slack communication service is implemented in Flask, python rest api framework. It has following endpoints\n",
    "\n",
    "| Service Endpoint | Description |\n",
    "| ------------------------------------- | ---------------------------------------- |\n",
    "| `/slack/events` | Whenever there is a message in the channel **gl-capstone-nlp-bot**, this rest api is called by slack. Here the message from the channel is recieved, which is further processed and reply through the bot is prepared here. Bot in response sends back a form, where user has to input the details and click the Confirm button. This communication can be well understood in the below diagram of slack communication snapshot. |\n",
    "| `/slack/message-actions` | When user clicks the confirm button, the slack channel calls this rest api. Here in this endpoint, data from the user filled form is extracted and passed to **ML model endpoint /predict**. The ML model endpoint responds with the accident level, which is communicated back into the slack channel using bot **gl-nlp-bot** |\n",
    "\n",
    "### Slack Communication Service implementation references\n",
    "- [Slack APIs for bot implementation](https://api.slack.com/apis)\n",
    "- [Slack API developer reference](https://slack.dev/python-slack-sdk/api-docs/slack_sdk/#web-api-client)\n",
    "- [Create a form to be filled by user](https://api.slack.com/block-kit)\n",
    "\n",
    "## ML Model training and predcition service\n",
    "This service is implemented in Flask, python rest api framework. It has following endpoints\n",
    "\n",
    "| Service Endpoint | Description |\n",
    "| ------------------------------------- | ---------------------------------------- |\n",
    "| `/predict` | This endpoint takes the input and predict the potential risk level. |\n",
    "| `/training` | This endpoint is used to train the model. Here we need to provide the location of the data and the path where data preprocessing and the trained model can be saved as pickle dump. This endpoint is still under construction, though the `training.py` file in the repository is fully functional. |\n",
    "\n",
    "*Reference input to the service /predict*\n",
    "```\n",
    "{\n",
    "\t\"Countries\": \"Country_01\",\n",
    "\t\"Local\": \"Local_03\",\n",
    "\t\"Industry Sector\": \"Mining\",\n",
    "\t\"Accident Level\": \"I\",\n",
    "\t\"Genre\": \"Male\",\n",
    "\t\"Employee or Third Party\": \"Employee\",\n",
    "\t\"Critical Risk\": \"Others\",\n",
    "\t\"Description\": \"While installing a segment of the polyurethane pulley protective lyner - 60x4x5cm weighing 1.2 kg - on the head pulley of the ore winch, when the pulley is rotated to compress the lyner inside the channel, it falls from its housing 1.50 m rubbing the right side of the worker hip, generating the injury described.\"\n",
    "}\n",
    "```\n"
   ]
  },
  {
   "cell_type": "code",
   "execution_count": null,
   "id": "906c15d9-8d6b-424c-9237-1ccc6b993437",
   "metadata": {},
   "outputs": [],
   "source": []
  },
  {
   "cell_type": "code",
   "execution_count": 4,
   "id": "0cb07c55-cb8a-40f7-900d-10a5954590f7",
   "metadata": {},
   "outputs": [
    {
     "data": {
      "text/plain": [
       "False"
      ]
     },
     "execution_count": 4,
     "metadata": {},
     "output_type": "execute_result"
    }
   ],
   "source": [
    "any(x['action_id'] == 'confirm_button' for x in g)"
   ]
  },
  {
   "cell_type": "code",
   "execution_count": null,
   "id": "9e3053f8-9c48-407d-9fd5-9a461f2adb55",
   "metadata": {},
   "outputs": [],
   "source": []
  }
 ],
 "metadata": {
  "kernelspec": {
   "display_name": "Python 3 (ipykernel)",
   "language": "python",
   "name": "python3"
  },
  "language_info": {
   "codemirror_mode": {
    "name": "ipython",
    "version": 3
   },
   "file_extension": ".py",
   "mimetype": "text/x-python",
   "name": "python",
   "nbconvert_exporter": "python",
   "pygments_lexer": "ipython3",
   "version": "3.8.10"
  }
 },
 "nbformat": 4,
 "nbformat_minor": 5
}
